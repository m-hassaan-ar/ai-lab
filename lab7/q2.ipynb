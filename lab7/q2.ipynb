{
  "nbformat": 4,
  "nbformat_minor": 0,
  "metadata": {
    "colab": {
      "provenance": [],
      "authorship_tag": "ABX9TyOFT1ssvdeMtU3jJ/FLERdt",
      "include_colab_link": true
    },
    "kernelspec": {
      "name": "python3",
      "display_name": "Python 3"
    },
    "language_info": {
      "name": "python"
    }
  },
  "cells": [
    {
      "cell_type": "markdown",
      "metadata": {
        "id": "view-in-github",
        "colab_type": "text"
      },
      "source": [
        "<a href=\"https://colab.research.google.com/github/m-hassaan-ar/ai-lab/blob/main/lab7/q2.ipynb\" target=\"_parent\"><img src=\"https://colab.research.google.com/assets/colab-badge.svg\" alt=\"Open In Colab\"/></a>"
      ]
    },
    {
      "cell_type": "code",
      "execution_count": 1,
      "metadata": {
        "colab": {
          "base_uri": "https://localhost:8080/"
        },
        "id": "CJ9WUvIOo6Z2",
        "outputId": "c4fbe64a-c79a-401b-a6ec-ece674327ffe"
      },
      "outputs": [
        {
          "output_type": "stream",
          "name": "stdout",
          "text": [
            "Initial Coins: [3, 9, 1, 2, 7, 5]\n",
            "Max picks 5, Remaining: [3, 9, 1, 2, 7]\n",
            "Min picks 3, Remaining: [9, 1, 2, 7]\n",
            "Max picks 9, Remaining: [1, 2, 7]\n",
            "Min picks 7, Remaining: [1, 2]\n",
            "Max picks 2, Remaining: [1]\n",
            "Min picks 1, Remaining: []\n",
            "\n",
            "Final Scores - Max: 16, Min: 11\n",
            "Winner: Max\n"
          ]
        }
      ],
      "source": [
        "#q2\n",
        "import math\n",
        "\n",
        "def alphabeta(coins, L, R, is_max, alpha, beta):\n",
        "    if L > R:\n",
        "        return 0\n",
        "    if is_max:\n",
        "        best = -math.inf\n",
        "        # pick left\n",
        "        val = coins[L] + alphabeta(coins, L+1, R, False, alpha, beta)\n",
        "        best = max(best, val)\n",
        "        alpha = max(alpha, best)\n",
        "        if beta <= alpha:\n",
        "            return best\n",
        "        # pick right\n",
        "        val = coins[R] + alphabeta(coins, L, R-1, False, alpha, beta)\n",
        "        best = max(best, val)\n",
        "        return best\n",
        "    else:\n",
        "        worst = math.inf\n",
        "        # Min also can pick left or right\n",
        "        val = alphabeta(coins, L+1, R, True, alpha, beta)\n",
        "        worst = min(worst, val)\n",
        "        beta = min(beta, worst)\n",
        "        if beta <= alpha:\n",
        "            return worst\n",
        "        val = alphabeta(coins, L, R-1, True, alpha, beta)\n",
        "        worst = min(worst, val)\n",
        "        return worst\n",
        "\n",
        "def simulate(coins):\n",
        "    L, R = 0, len(coins)-1\n",
        "    max_score = 0\n",
        "    min_score = 0\n",
        "    turn = \"Max\"\n",
        "    print(\"Initial Coins:\", coins)\n",
        "    while L <= R:\n",
        "        if turn==\"Max\":\n",
        "            # evaluate both ends\n",
        "            left_val  = coins[L] + alphabeta(coins, L+1, R, False, -math.inf, math.inf)\n",
        "            right_val = coins[R] + alphabeta(coins, L, R-1, False, -math.inf, math.inf)\n",
        "            if left_val >= right_val:\n",
        "                pick = coins[L]; L+=1\n",
        "            else:\n",
        "                pick = coins[R]; R-=1\n",
        "            max_score += pick\n",
        "            print(f\"Max picks {pick}, Remaining: {coins[L:R+1]}\")\n",
        "            turn = \"Min\"\n",
        "        else:\n",
        "            # Min plays optimally to minimize Max's sum\n",
        "            # choose the move that gives smaller future max-total\n",
        "            left_future  = alphabeta(coins, L+1, R, True, -math.inf, math.inf)\n",
        "            right_future = alphabeta(coins, L, R-1, True, -math.inf, math.inf)\n",
        "            if left_future <= right_future:\n",
        "                pick = coins[L]; L+=1\n",
        "            else:\n",
        "                pick = coins[R]; R-=1\n",
        "            min_score += pick\n",
        "            print(f\"Min picks {pick}, Remaining: {coins[L:R+1]}\")\n",
        "            turn = \"Max\"\n",
        "    print(f\"\\nFinal Scores - Max: {max_score}, Min: {min_score}\")\n",
        "    print(\"Winner:\", \"Max\" if max_score>=min_score else \"Min\")\n",
        "\n",
        "if __name__==\"__main__\":\n",
        "    coins = [3,9,1,2,7,5]\n",
        "    simulate(coins)\n"
      ]
    }
  ]
}