{
  "nbformat": 4,
  "nbformat_minor": 0,
  "metadata": {
    "colab": {
      "provenance": [],
      "authorship_tag": "ABX9TyPEcFvweKbCVT0P1RooMupE",
      "include_colab_link": true
    },
    "kernelspec": {
      "name": "python3",
      "display_name": "Python 3"
    },
    "language_info": {
      "name": "python"
    }
  },
  "cells": [
    {
      "cell_type": "markdown",
      "metadata": {
        "id": "view-in-github",
        "colab_type": "text"
      },
      "source": [
        "<a href=\"https://colab.research.google.com/github/m-hassaan-ar/ai-lab/blob/main/lab6/q2.ipynb\" target=\"_parent\"><img src=\"https://colab.research.google.com/assets/colab-badge.svg\" alt=\"Open In Colab\"/></a>"
      ]
    },
    {
      "cell_type": "code",
      "execution_count": 1,
      "metadata": {
        "id": "gaj7JL-qfRrq",
        "outputId": "02d20cf0-ca20-4c70-c8ee-f083647eb166",
        "colab": {
          "base_uri": "https://localhost:8080/"
        }
      },
      "outputs": [
        {
          "output_type": "stream",
          "name": "stdout",
          "text": [
            "Perimeter of largest landmass: 20\n"
          ]
        }
      ],
      "source": [
        "# task2_largest_landmass_perimeter.py\n",
        "\n",
        "from collections import deque\n",
        "\n",
        "def largest_land_perimeter(grid):\n",
        "    rows, cols = len(grid), len(grid[0])\n",
        "    visited = [[False]*cols for _ in range(rows)]\n",
        "    dirs = [(1,0),(-1,0),(0,1),(0,-1)]\n",
        "\n",
        "    max_perim = 0\n",
        "    for i in range(rows):\n",
        "        for j in range(cols):\n",
        "            if grid[i][j] == 1 and not visited[i][j]:\n",
        "                # BFS to collect this landmass\n",
        "                q = deque([(i, j)])\n",
        "                visited[i][j] = True\n",
        "                cells = [(i, j)]\n",
        "\n",
        "                while q:\n",
        "                    x, y = q.popleft()\n",
        "                    for dx, dy in dirs:\n",
        "                        nx, ny = x+dx, y+dy\n",
        "                        if 0 <= nx < rows and 0 <= ny < cols and grid[nx][ny] == 1 and not visited[nx][ny]:\n",
        "                            visited[nx][ny] = True\n",
        "                            q.append((nx, ny))\n",
        "                            cells.append((nx, ny))\n",
        "\n",
        "                # compute perimeter of this component\n",
        "                perim = 0\n",
        "                for x, y in cells:\n",
        "                    for dx, dy in dirs:\n",
        "                        nx, ny = x+dx, y+dy\n",
        "                        if nx < 0 or nx >= rows or ny < 0 or ny >= cols or grid[nx][ny] == 0:\n",
        "                            perim += 1\n",
        "                max_perim = max(max_perim, perim)\n",
        "\n",
        "    return max_perim\n",
        "\n",
        "def main():\n",
        "    # 1 = land, 0 = water\n",
        "    grid = [\n",
        "        [1,1,0,0,0],\n",
        "        [1,1,1,0,0],\n",
        "        [0,1,1,1,0],\n",
        "        [0,0,1,1,1],\n",
        "        [0,0,0,1,1],\n",
        "    ]\n",
        "    perim = largest_land_perimeter(grid)\n",
        "    print(\"Perimeter of largest landmass:\", perim)\n",
        "\n",
        "if __name__ == \"__main__\":\n",
        "    main()\n"
      ]
    }
  ]
}