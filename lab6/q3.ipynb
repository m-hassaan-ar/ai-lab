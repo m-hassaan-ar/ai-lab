{
  "nbformat": 4,
  "nbformat_minor": 0,
  "metadata": {
    "colab": {
      "provenance": [],
      "authorship_tag": "ABX9TyPUeiB/RwCBrEFyuBTr+eCC",
      "include_colab_link": true
    },
    "kernelspec": {
      "name": "python3",
      "display_name": "Python 3"
    },
    "language_info": {
      "name": "python"
    }
  },
  "cells": [
    {
      "cell_type": "markdown",
      "metadata": {
        "id": "view-in-github",
        "colab_type": "text"
      },
      "source": [
        "<a href=\"https://colab.research.google.com/github/m-hassaan-ar/ai-lab/blob/main/lab6/q3.ipynb\" target=\"_parent\"><img src=\"https://colab.research.google.com/assets/colab-badge.svg\" alt=\"Open In Colab\"/></a>"
      ]
    },
    {
      "cell_type": "code",
      "execution_count": 12,
      "metadata": {
        "colab": {
          "base_uri": "https://localhost:8080/"
        },
        "id": "V5WGmNMJV86P",
        "outputId": "fcd9ff60-5669-450f-a84f-ef7fea7f6625"
      },
      "outputs": [
        {
          "output_type": "stream",
          "name": "stdout",
          "text": [
            "Collecting ortools\n",
            "  Downloading ortools-9.12.4544-cp311-cp311-manylinux_2_27_x86_64.manylinux_2_28_x86_64.whl.metadata (3.3 kB)\n",
            "Collecting absl-py>=2.0.0 (from ortools)\n",
            "  Downloading absl_py-2.2.2-py3-none-any.whl.metadata (2.6 kB)\n",
            "Requirement already satisfied: numpy>=1.13.3 in /usr/local/lib/python3.11/dist-packages (from ortools) (2.0.2)\n",
            "Requirement already satisfied: pandas>=2.0.0 in /usr/local/lib/python3.11/dist-packages (from ortools) (2.2.2)\n",
            "Requirement already satisfied: protobuf<5.30,>=5.29.3 in /usr/local/lib/python3.11/dist-packages (from ortools) (5.29.4)\n",
            "Requirement already satisfied: immutabledict>=3.0.0 in /usr/local/lib/python3.11/dist-packages (from ortools) (4.2.1)\n",
            "Requirement already satisfied: python-dateutil>=2.8.2 in /usr/local/lib/python3.11/dist-packages (from pandas>=2.0.0->ortools) (2.8.2)\n",
            "Requirement already satisfied: pytz>=2020.1 in /usr/local/lib/python3.11/dist-packages (from pandas>=2.0.0->ortools) (2025.2)\n",
            "Requirement already satisfied: tzdata>=2022.7 in /usr/local/lib/python3.11/dist-packages (from pandas>=2.0.0->ortools) (2025.2)\n",
            "Requirement already satisfied: six>=1.5 in /usr/local/lib/python3.11/dist-packages (from python-dateutil>=2.8.2->pandas>=2.0.0->ortools) (1.17.0)\n",
            "Downloading ortools-9.12.4544-cp311-cp311-manylinux_2_27_x86_64.manylinux_2_28_x86_64.whl (24.9 MB)\n",
            "\u001b[2K   \u001b[90m━━━━━━━━━━━━━━━━━━━━━━━━━━━━━━━━━━━━━━━━\u001b[0m \u001b[32m24.9/24.9 MB\u001b[0m \u001b[31m79.9 MB/s\u001b[0m eta \u001b[36m0:00:00\u001b[0m\n",
            "\u001b[?25hDownloading absl_py-2.2.2-py3-none-any.whl (135 kB)\n",
            "\u001b[2K   \u001b[90m━━━━━━━━━━━━━━━━━━━━━━━━━━━━━━━━━━━━━━━━\u001b[0m \u001b[32m135.6/135.6 kB\u001b[0m \u001b[31m15.8 MB/s\u001b[0m eta \u001b[36m0:00:00\u001b[0m\n",
            "\u001b[?25hInstalling collected packages: absl-py, ortools\n",
            "  Attempting uninstall: absl-py\n",
            "    Found existing installation: absl-py 1.4.0\n",
            "    Uninstalling absl-py-1.4.0:\n",
            "      Successfully uninstalled absl-py-1.4.0\n",
            "Successfully installed absl-py-2.2.2 ortools-9.12.4544\n",
            "TSP route (by city index): [0, 2, 1, 8, 9, 6, 4, 7, 5, 3, 0]\n",
            "Total distance: 29\n"
          ]
        }
      ],
      "source": [
        "# task3_tsp_10_cities.py\n",
        "!pip install ortools\n",
        "from ortools.constraint_solver import pywrapcp, routing_enums_pb2\n",
        "\n",
        "def create_distance_matrix(coords):\n",
        "    n = len(coords)\n",
        "    mat = [[0]*n for _ in range(n)]\n",
        "    for i,(x1,y1) in enumerate(coords):\n",
        "        for j,(x2,y2) in enumerate(coords):\n",
        "            # Euclidean distance rounded to int\n",
        "            mat[i][j] = int(((x1-x2)**2 + (y1-y2)**2)**0.5)\n",
        "    return mat\n",
        "\n",
        "def main():\n",
        "    # 10 city coordinates\n",
        "    cities = [(0,0),(1,5),(2,3),(5,2),(6,6),(8,3),(7,8),(9,5),(4,7),(3,9)]\n",
        "    dist_matrix = create_distance_matrix(cities)\n",
        "\n",
        "    manager = pywrapcp.RoutingIndexManager(len(cities), 1, 0)\n",
        "    routing = pywrapcp.RoutingModel(manager)\n",
        "\n",
        "    def dist_callback(fr, to):\n",
        "        return dist_matrix[manager.IndexToNode(fr)][manager.IndexToNode(to)]\n",
        "    transit_cb = routing.RegisterTransitCallback(dist_callback)\n",
        "    routing.SetArcCostEvaluatorOfAllVehicles(transit_cb)\n",
        "\n",
        "    search_params = pywrapcp.DefaultRoutingSearchParameters()\n",
        "    search_params.first_solution_strategy = routing_enums_pb2.FirstSolutionStrategy.PATH_CHEAPEST_ARC\n",
        "\n",
        "    solution = routing.SolveWithParameters(search_params)\n",
        "    if solution:\n",
        "        index = routing.Start(0)\n",
        "        route = []\n",
        "        while not routing.IsEnd(index):\n",
        "            route.append(manager.IndexToNode(index))\n",
        "            index = solution.Value(routing.NextVar(index))\n",
        "        route.append(manager.IndexToNode(index))\n",
        "        print(\"TSP route (by city index):\", route)\n",
        "        print(\"Total distance:\", solution.ObjectiveValue())\n",
        "\n",
        "if __name__ == \"__main__\":\n",
        "    main()\n"
      ]
    }
  ]
}