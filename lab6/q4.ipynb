{
  "nbformat": 4,
  "nbformat_minor": 0,
  "metadata": {
    "colab": {
      "provenance": [],
      "authorship_tag": "ABX9TyPvuMxwC/z0fCRv5/gHgRIi",
      "include_colab_link": true
    },
    "kernelspec": {
      "name": "python3",
      "display_name": "Python 3"
    },
    "language_info": {
      "name": "python"
    }
  },
  "cells": [
    {
      "cell_type": "markdown",
      "metadata": {
        "id": "view-in-github",
        "colab_type": "text"
      },
      "source": [
        "<a href=\"https://colab.research.google.com/github/m-hassaan-ar/ai-lab/blob/main/lab6/q4.ipynb\" target=\"_parent\"><img src=\"https://colab.research.google.com/assets/colab-badge.svg\" alt=\"Open In Colab\"/></a>"
      ]
    },
    {
      "cell_type": "code",
      "execution_count": 3,
      "metadata": {
        "colab": {
          "base_uri": "https://localhost:8080/"
        },
        "id": "YYwEpJdcXlS7",
        "outputId": "d7dbc12b-6df6-4a25-fbe8-4678a5924a49"
      },
      "outputs": [
        {
          "output_type": "stream",
          "name": "stdout",
          "text": [
            "Requirement already satisfied: ortools in /usr/local/lib/python3.11/dist-packages (9.12.4544)\n",
            "Requirement already satisfied: absl-py>=2.0.0 in /usr/local/lib/python3.11/dist-packages (from ortools) (2.2.2)\n",
            "Requirement already satisfied: numpy>=1.13.3 in /usr/local/lib/python3.11/dist-packages (from ortools) (2.0.2)\n",
            "Requirement already satisfied: pandas>=2.0.0 in /usr/local/lib/python3.11/dist-packages (from ortools) (2.2.2)\n",
            "Requirement already satisfied: protobuf<5.30,>=5.29.3 in /usr/local/lib/python3.11/dist-packages (from ortools) (5.29.4)\n",
            "Requirement already satisfied: immutabledict>=3.0.0 in /usr/local/lib/python3.11/dist-packages (from ortools) (4.2.1)\n",
            "Requirement already satisfied: python-dateutil>=2.8.2 in /usr/local/lib/python3.11/dist-packages (from pandas>=2.0.0->ortools) (2.8.2)\n",
            "Requirement already satisfied: pytz>=2020.1 in /usr/local/lib/python3.11/dist-packages (from pandas>=2.0.0->ortools) (2025.2)\n",
            "Requirement already satisfied: tzdata>=2022.7 in /usr/local/lib/python3.11/dist-packages (from pandas>=2.0.0->ortools) (2025.2)\n",
            "Requirement already satisfied: six>=1.5 in /usr/local/lib/python3.11/dist-packages (from python-dateutil>=2.8.2->pandas>=2.0.0->ortools) (1.17.0)\n",
            "Robot 0 route: [0, 0]  Load: 0\n",
            "Robot 1 route: [0, 1, 10, 11, 5, 0]  Load: 12\n",
            "Robot 2 route: [0, 9, 3, 4, 0]  Load: 7\n",
            "Robot 3 route: [0, 2, 8, 0]  Load: 4\n",
            "Robot 4 route: [0, 6, 12, 18, 24, 30, 31, 32, 33, 34, 35, 29, 28, 27, 26, 25, 19, 20, 21, 22, 23, 17, 16, 15, 14, 13, 7, 0]  Load: 5\n"
          ]
        }
      ],
      "source": [
        "# task4_multi_robot_delivery.py\n",
        "!pip install ortools\n",
        "from ortools.constraint_solver import pywrapcp, routing_enums_pb2\n",
        "\n",
        "def create_data():\n",
        "    data = {}\n",
        "    # 6×6 grid flattened to 36 locations\n",
        "    data['locations'] = [(i,j) for i in range(6) for j in range(6)]\n",
        "    n = len(data['locations'])\n",
        "    # distance = Manhattan\n",
        "    data['dist_matrix'] = [\n",
        "        [\n",
        "            abs(x1-x2) + abs(y1-y2)\n",
        "            for (x2,y2) in data['locations']\n",
        "        ]\n",
        "        for (x1,y1) in data['locations']\n",
        "    ]\n",
        "    data['num_robots'] = 5\n",
        "    data['depot'] = 0  # start at location (0,0)\n",
        "    # pretend 10 packages are at locations 1..10 with weight demands\n",
        "    data['demands'] = [0]*n\n",
        "    weights = [2,4,6,8,3,5,7,9,1,10]\n",
        "    for i, w in enumerate(weights, start=1):\n",
        "        data['demands'][i] = w\n",
        "    # each robot capacity\n",
        "    data['capacities'] = [15]*data['num_robots']\n",
        "    return data\n",
        "\n",
        "def main():\n",
        "    data = create_data()\n",
        "    manager = pywrapcp.RoutingIndexManager(\n",
        "        len(data['dist_matrix']),\n",
        "        data['num_robots'],\n",
        "        data['depot']\n",
        "    )\n",
        "    routing = pywrapcp.RoutingModel(manager)\n",
        "\n",
        "    def dist_cb(fr, to):\n",
        "        return data['dist_matrix'][manager.IndexToNode(fr)][manager.IndexToNode(to)]\n",
        "    routing.SetArcCostEvaluatorOfAllVehicles(routing.RegisterTransitCallback(dist_cb))\n",
        "\n",
        "    def demand_cb(idx):\n",
        "        return data['demands'][manager.IndexToNode(idx)]\n",
        "    capacity_cb = routing.RegisterUnaryTransitCallback(demand_cb)\n",
        "    routing.AddDimensionWithVehicleCapacity(\n",
        "        capacity_cb,\n",
        "        0,            # no slack\n",
        "        data['capacities'],\n",
        "        True,         # start with zero load\n",
        "        \"Capacity\"\n",
        "    )\n",
        "\n",
        "    search_params = pywrapcp.DefaultRoutingSearchParameters()\n",
        "    search_params.first_solution_strategy = routing_enums_pb2.FirstSolutionStrategy.PATH_CHEAPEST_ARC\n",
        "\n",
        "    sol = routing.SolveWithParameters(search_params)\n",
        "    if sol:\n",
        "        capacity_dim = routing.GetDimensionOrDie(\"Capacity\")\n",
        "        for v in range(data['num_robots']):\n",
        "            idx = routing.Start(v)\n",
        "            route = []\n",
        "            load = 0\n",
        "            while not routing.IsEnd(idx):\n",
        "                node = manager.IndexToNode(idx)\n",
        "                load = sol.Value(capacity_dim.CumulVar(idx))\n",
        "                route.append(node)\n",
        "                idx = sol.Value(routing.NextVar(idx))\n",
        "            route.append(manager.IndexToNode(idx))\n",
        "            print(f\"Robot {v} route: {route}  Load: {load}\")\n",
        "\n",
        "if __name__ == \"__main__\":\n",
        "    main()\n"
      ]
    }
  ]
}