{
  "nbformat": 4,
  "nbformat_minor": 0,
  "metadata": {
    "colab": {
      "provenance": [],
      "authorship_tag": "ABX9TyMA6jY1SmOdDAixor2QOPrw",
      "include_colab_link": true
    },
    "kernelspec": {
      "name": "python3",
      "display_name": "Python 3"
    },
    "language_info": {
      "name": "python"
    }
  },
  "cells": [
    {
      "cell_type": "markdown",
      "metadata": {
        "id": "view-in-github",
        "colab_type": "text"
      },
      "source": [
        "<a href=\"https://colab.research.google.com/github/m-hassaan-ar/ai-lab/blob/main/lab6/lab6_q1.ipynb\" target=\"_parent\"><img src=\"https://colab.research.google.com/assets/colab-badge.svg\" alt=\"Open In Colab\"/></a>"
      ]
    },
    {
      "cell_type": "code",
      "execution_count": 5,
      "metadata": {
        "colab": {
          "base_uri": "https://localhost:8080/",
          "height": 321
        },
        "id": "x6OY3VykTD27",
        "outputId": "cf4f58dc-f876-484c-a9aa-682205e54c54"
      },
      "outputs": [
        {
          "output_type": "error",
          "ename": "KeyError",
          "evalue": "(1, 3)",
          "traceback": [
            "\u001b[0;31m---------------------------------------------------------------------------\u001b[0m",
            "\u001b[0;31mKeyError\u001b[0m                                  Traceback (most recent call last)",
            "\u001b[0;32m<ipython-input-5-a6c62264b252>\u001b[0m in \u001b[0;36m<cell line: 0>\u001b[0;34m()\u001b[0m\n\u001b[1;32m     41\u001b[0m \u001b[0;34m\u001b[0m\u001b[0m\n\u001b[1;32m     42\u001b[0m \u001b[0;32mif\u001b[0m \u001b[0m__name__\u001b[0m \u001b[0;34m==\u001b[0m \u001b[0;34m\"__main__\"\u001b[0m\u001b[0;34m:\u001b[0m\u001b[0;34m\u001b[0m\u001b[0;34m\u001b[0m\u001b[0m\n\u001b[0;32m---> 43\u001b[0;31m     \u001b[0mmain\u001b[0m\u001b[0;34m(\u001b[0m\u001b[0;34m)\u001b[0m\u001b[0;34m\u001b[0m\u001b[0;34m\u001b[0m\u001b[0m\n\u001b[0m",
            "\u001b[0;32m<ipython-input-5-a6c62264b252>\u001b[0m in \u001b[0;36mmain\u001b[0;34m()\u001b[0m\n\u001b[1;32m     37\u001b[0m     \u001b[0mstart\u001b[0m \u001b[0;34m=\u001b[0m \u001b[0;34m(\u001b[0m\u001b[0;36m0\u001b[0m\u001b[0;34m,\u001b[0m \u001b[0;36m1\u001b[0m\u001b[0;34m)\u001b[0m    \u001b[0;31m# corresponds to (1,1)\u001b[0m\u001b[0;34m\u001b[0m\u001b[0;34m\u001b[0m\u001b[0m\n\u001b[1;32m     38\u001b[0m     \u001b[0mtarget\u001b[0m \u001b[0;34m=\u001b[0m \u001b[0;34m(\u001b[0m\u001b[0;36m1\u001b[0m\u001b[0;34m,\u001b[0m \u001b[0;36m3\u001b[0m\u001b[0;34m)\u001b[0m   \u001b[0;31m# corresponds to (4,4)\u001b[0m\u001b[0;34m\u001b[0m\u001b[0;34m\u001b[0m\u001b[0m\n\u001b[0;32m---> 39\u001b[0;31m     \u001b[0mpath\u001b[0m \u001b[0;34m=\u001b[0m \u001b[0mfind_shortest_diagonal_path\u001b[0m\u001b[0;34m(\u001b[0m\u001b[0mgrid\u001b[0m\u001b[0;34m,\u001b[0m \u001b[0mstart\u001b[0m\u001b[0;34m,\u001b[0m \u001b[0mtarget\u001b[0m\u001b[0;34m)\u001b[0m\u001b[0;34m\u001b[0m\u001b[0;34m\u001b[0m\u001b[0m\n\u001b[0m\u001b[1;32m     40\u001b[0m     \u001b[0mprint\u001b[0m\u001b[0;34m(\u001b[0m\u001b[0;34m\"Shortest diagonal path:\"\u001b[0m\u001b[0;34m,\u001b[0m \u001b[0mpath\u001b[0m\u001b[0;34m)\u001b[0m\u001b[0;34m\u001b[0m\u001b[0;34m\u001b[0m\u001b[0m\n\u001b[1;32m     41\u001b[0m \u001b[0;34m\u001b[0m\u001b[0m\n",
            "\u001b[0;32m<ipython-input-5-a6c62264b252>\u001b[0m in \u001b[0;36mfind_shortest_diagonal_path\u001b[0;34m(grid, start, target)\u001b[0m\n\u001b[1;32m     28\u001b[0m     \u001b[0;32mwhile\u001b[0m \u001b[0mnode\u001b[0m \u001b[0;34m!=\u001b[0m \u001b[0mstart\u001b[0m\u001b[0;34m:\u001b[0m\u001b[0;34m\u001b[0m\u001b[0;34m\u001b[0m\u001b[0m\n\u001b[1;32m     29\u001b[0m         \u001b[0mpath\u001b[0m\u001b[0;34m.\u001b[0m\u001b[0mappend\u001b[0m\u001b[0;34m(\u001b[0m\u001b[0mnode\u001b[0m\u001b[0;34m)\u001b[0m\u001b[0;34m\u001b[0m\u001b[0;34m\u001b[0m\u001b[0m\n\u001b[0;32m---> 30\u001b[0;31m         \u001b[0mnode\u001b[0m \u001b[0;34m=\u001b[0m \u001b[0mparent\u001b[0m\u001b[0;34m[\u001b[0m\u001b[0mnode\u001b[0m\u001b[0;34m]\u001b[0m\u001b[0;34m\u001b[0m\u001b[0;34m\u001b[0m\u001b[0m\n\u001b[0m\u001b[1;32m     31\u001b[0m     \u001b[0mpath\u001b[0m\u001b[0;34m.\u001b[0m\u001b[0mappend\u001b[0m\u001b[0;34m(\u001b[0m\u001b[0mstart\u001b[0m\u001b[0;34m)\u001b[0m\u001b[0;34m\u001b[0m\u001b[0;34m\u001b[0m\u001b[0m\n\u001b[1;32m     32\u001b[0m     \u001b[0;32mreturn\u001b[0m \u001b[0mlist\u001b[0m\u001b[0;34m(\u001b[0m\u001b[0mreversed\u001b[0m\u001b[0;34m(\u001b[0m\u001b[0mpath\u001b[0m\u001b[0;34m)\u001b[0m\u001b[0;34m)\u001b[0m\u001b[0;34m\u001b[0m\u001b[0;34m\u001b[0m\u001b[0m\n",
            "\u001b[0;31mKeyError\u001b[0m: (1, 3)"
          ]
        }
      ],
      "source": [
        "# task1_shortest_diagonal_path.py\n",
        "\n",
        "from collections import deque\n",
        "\n",
        "def find_shortest_diagonal_path(grid, start, target):\n",
        "    rows, cols = len(grid), len(grid[0])\n",
        "    # only diagonal moves allowed\n",
        "    moves = [(-1,-1),(-1,1),(1,-1),(1,1)]\n",
        "    visited = [[False]*cols for _ in range(rows)]\n",
        "    parent = {}\n",
        "    q = deque([start])\n",
        "    visited[start[0]][start[1]] = True\n",
        "\n",
        "    while q:\n",
        "        x, y = q.popleft()\n",
        "        if (x, y) == target:\n",
        "            break\n",
        "        for dx, dy in moves:\n",
        "            nx, ny = x+dx, y+dy\n",
        "            if 0 <= nx < rows and 0 <= ny < cols and not visited[nx][ny] and grid[nx][ny] == 0:\n",
        "                visited[nx][ny] = True\n",
        "                parent[(nx, ny)] = (x, y)\n",
        "                q.append((nx, ny))\n",
        "\n",
        "    # reconstruct path\n",
        "    path = []\n",
        "    node = target\n",
        "    while node != start:\n",
        "        path.append(node)\n",
        "        node = parent[node]\n",
        "    path.append(start)\n",
        "    return list(reversed(path))\n",
        "\n",
        "def main():\n",
        "    # 0 = free cell, 1 = obstacle\n",
        "    grid = [[0]*5 for _ in range(5)]\n",
        "    start = (0, 1)    # corresponds to (1,1)\n",
        "    target = (1, 3)   # corresponds to (4,4)\n",
        "    path = find_shortest_diagonal_path(grid, start, target)\n",
        "    print(\"Shortest diagonal path:\", path)\n",
        "\n",
        "if __name__ == \"__main__\":\n",
        "    main()\n"
      ]
    },
    {
      "cell_type": "code",
      "source": [
        "from collections import deque\n",
        "\n",
        "def find_shortest_diagonal_path(grid, start, target):\n",
        "    rows, cols = len(grid), len(grid[0])\n",
        "    # only diagonal moves allowed\n",
        "    moves = [(-1,-1),(-1,1),(1,-1),(1,1)]\n",
        "    visited = [[False]*cols for _ in range(rows)]\n",
        "    parent = {}\n",
        "    q = deque([start])\n",
        "    visited[start[0]][start[1]] = True\n",
        "\n",
        "    while q:\n",
        "        x, y = q.popleft()\n",
        "        if (x, y) == target:\n",
        "            break\n",
        "        for dx, dy in moves:\n",
        "            nx, ny = x+dx, y+dy\n",
        "            if 0 <= nx < rows and 0 <= ny < cols and not visited[nx][ny] and grid[nx][ny] == 0:\n",
        "                visited[nx][ny] = True\n",
        "                parent[(nx, ny)] = (x, y)\n",
        "                q.append((nx, ny))\n",
        "\n",
        "    # reconstruct path\n",
        "    path = []\n",
        "    node = target\n",
        "    # Check if target was reached before reconstructing the path\n",
        "    if node in parent:  # If target is in parent, it means a path was found\n",
        "        while node != start:\n",
        "            path.append(node)\n",
        "            node = parent[node]\n",
        "        path.append(start)\n",
        "        return list(reversed(path))\n",
        "    else:\n",
        "        return []  # Return empty list if no path found\n",
        "\n",
        "def main():\n",
        "    # 0 = free cell, 1 = obstacle\n",
        "    grid = [[0]*5 for _ in range(5)]\n",
        "    start = (1, 1)    # corresponds to (1,1)\n",
        "    target = (1, 3)   # corresponds to (4,4)\n",
        "    path = find_shortest_diagonal_path(grid, start, target)\n",
        "    print(\"Shortest diagonal path:\", path)  # Prints empty list if no path\n",
        "\n",
        "if __name__ == \"__main__\":\n",
        "    main()"
      ],
      "metadata": {
        "colab": {
          "base_uri": "https://localhost:8080/"
        },
        "id": "xrNcd-oYUAje",
        "outputId": "4f372858-8e98-4f07-b69f-53628f89e312"
      },
      "execution_count": 7,
      "outputs": [
        {
          "output_type": "stream",
          "name": "stdout",
          "text": [
            "Shortest diagonal path: [(1, 1), (0, 2), (1, 3)]\n"
          ]
        }
      ]
    }
  ]
}