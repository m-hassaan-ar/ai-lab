{
  "nbformat": 4,
  "nbformat_minor": 0,
  "metadata": {
    "colab": {
      "provenance": [],
      "authorship_tag": "ABX9TyOhPbRGnxU/d61MJvpPfMiE",
      "include_colab_link": true
    },
    "kernelspec": {
      "name": "python3",
      "display_name": "Python 3"
    },
    "language_info": {
      "name": "python"
    }
  },
  "cells": [
    {
      "cell_type": "markdown",
      "metadata": {
        "id": "view-in-github",
        "colab_type": "text"
      },
      "source": [
        "<a href=\"https://colab.research.google.com/github/m-hassaan-ar/ai-lab/blob/main/lab6/q5.ipynb\" target=\"_parent\"><img src=\"https://colab.research.google.com/assets/colab-badge.svg\" alt=\"Open In Colab\"/></a>"
      ]
    },
    {
      "cell_type": "code",
      "source": [
        "!pip install ortools"
      ],
      "metadata": {
        "colab": {
          "base_uri": "https://localhost:8080/"
        },
        "id": "Bs3HVgHQewdO",
        "outputId": "b97d5163-8e04-4ed6-9f39-bba4739b018e"
      },
      "execution_count": 6,
      "outputs": [
        {
          "output_type": "stream",
          "name": "stdout",
          "text": [
            "Collecting ortools\n",
            "  Downloading ortools-9.12.4544-cp311-cp311-manylinux_2_27_x86_64.manylinux_2_28_x86_64.whl.metadata (3.3 kB)\n",
            "Collecting absl-py>=2.0.0 (from ortools)\n",
            "  Downloading absl_py-2.2.2-py3-none-any.whl.metadata (2.6 kB)\n",
            "Requirement already satisfied: numpy>=1.13.3 in /usr/local/lib/python3.11/dist-packages (from ortools) (1.26.4)\n",
            "Requirement already satisfied: pandas>=2.0.0 in /usr/local/lib/python3.11/dist-packages (from ortools) (2.2.2)\n",
            "Collecting protobuf<5.30,>=5.29.3 (from ortools)\n",
            "  Downloading protobuf-5.29.4-cp38-abi3-manylinux2014_x86_64.whl.metadata (592 bytes)\n",
            "Requirement already satisfied: immutabledict>=3.0.0 in /usr/local/lib/python3.11/dist-packages (from ortools) (4.2.1)\n",
            "Requirement already satisfied: python-dateutil>=2.8.2 in /usr/local/lib/python3.11/dist-packages (from pandas>=2.0.0->ortools) (2.8.2)\n",
            "Requirement already satisfied: pytz>=2020.1 in /usr/local/lib/python3.11/dist-packages (from pandas>=2.0.0->ortools) (2025.1)\n",
            "Requirement already satisfied: tzdata>=2022.7 in /usr/local/lib/python3.11/dist-packages (from pandas>=2.0.0->ortools) (2025.1)\n",
            "Requirement already satisfied: six>=1.5 in /usr/local/lib/python3.11/dist-packages (from python-dateutil>=2.8.2->pandas>=2.0.0->ortools) (1.17.0)\n",
            "Downloading ortools-9.12.4544-cp311-cp311-manylinux_2_27_x86_64.manylinux_2_28_x86_64.whl (24.9 MB)\n",
            "\u001b[2K   \u001b[90m━━━━━━━━━━━━━━━━━━━━━━━━━━━━━━━━━━━━━━━━\u001b[0m \u001b[32m24.9/24.9 MB\u001b[0m \u001b[31m74.0 MB/s\u001b[0m eta \u001b[36m0:00:00\u001b[0m\n",
            "\u001b[?25hDownloading absl_py-2.2.2-py3-none-any.whl (135 kB)\n",
            "\u001b[2K   \u001b[90m━━━━━━━━━━━━━━━━━━━━━━━━━━━━━━━━━━━━━━━━\u001b[0m \u001b[32m135.6/135.6 kB\u001b[0m \u001b[31m11.0 MB/s\u001b[0m eta \u001b[36m0:00:00\u001b[0m\n",
            "\u001b[?25hDownloading protobuf-5.29.4-cp38-abi3-manylinux2014_x86_64.whl (319 kB)\n",
            "\u001b[2K   \u001b[90m━━━━━━━━━━━━━━━━━━━━━━━━━━━━━━━━━━━━━━━━\u001b[0m \u001b[32m319.7/319.7 kB\u001b[0m \u001b[31m23.3 MB/s\u001b[0m eta \u001b[36m0:00:00\u001b[0m\n",
            "\u001b[?25hInstalling collected packages: protobuf, absl-py, ortools\n",
            "  Attempting uninstall: protobuf\n",
            "    Found existing installation: protobuf 4.25.6\n",
            "    Uninstalling protobuf-4.25.6:\n",
            "      Successfully uninstalled protobuf-4.25.6\n",
            "  Attempting uninstall: absl-py\n",
            "    Found existing installation: absl-py 1.4.0\n",
            "    Uninstalling absl-py-1.4.0:\n",
            "      Successfully uninstalled absl-py-1.4.0\n",
            "Successfully installed absl-py-2.2.2 ortools-9.12.4544 protobuf-5.29.4\n"
          ]
        }
      ]
    },
    {
      "cell_type": "code",
      "execution_count": 7,
      "metadata": {
        "colab": {
          "base_uri": "https://localhost:8080/"
        },
        "id": "_bzDLmpueGQF",
        "outputId": "f092e0d1-2a8c-4770-8afb-6f21816c6329"
      },
      "outputs": [
        {
          "output_type": "stream",
          "name": "stdout",
          "text": [
            "[257698037819, 0, 0, 0, 0, 0, 455620904, 0, 0]\n",
            "[0, 0, 455716786, 132973124493536, 0, 0, 0, 0, 0]\n",
            "[0, 0, 0, 4564793311245803894, 4564793846201382031, 0, 0, 0, 0]\n",
            "[0, 0, 0, 3, 49, 132974464339168, 455154560, 455708208, 132974464339168]\n",
            "[48, 80, 455622328, -6393678766025965013, -9187269055667221662, 36170086419038336, 279172874260, 13, 300647710787]\n",
            "[0, 0, 1169, 455161744, 132974464340208, 455708160, 455708160, 65, 97]\n",
            "[455709376, 455707984, 32, 32, 455622600, 0, 0, 33, 455708432]\n",
            "[132974464339168, 144, 80, 455618280, -57011855297341598, -9208326298114189470, 36170086419038336, 292057776148, 8589934605]\n",
            "[506806141044, 121, 0, 145, 455710096, 455707744, -9187201950435737472, 296361164928, 68]\n"
          ]
        }
      ],
      "source": [
        "# task5_sudoku_with_extras.py\n",
        "\n",
        "from ortools.sat.python import cp_model\n",
        "\n",
        "def main():\n",
        "    model = cp_model.CpModel()\n",
        "\n",
        "    # 9×9 Sudoku variables\n",
        "    cells = [[model.NewIntVar(1,9,f\"c{r}{c}\") for c in range(9)] for r in range(9)]\n",
        "\n",
        "    # example puzzle (0 = empty)\n",
        "    puzzle = [\n",
        "        [5,3,0,0,7,0,0,0,0],\n",
        "        [6,0,0,1,9,5,0,0,0],\n",
        "        [0,9,8,0,0,0,0,6,0],\n",
        "        [8,0,0,0,6,0,0,0,3],\n",
        "        [4,0,0,8,0,3,0,0,1],\n",
        "        [7,0,0,0,2,0,0,0,6],\n",
        "        [0,6,0,0,0,0,2,8,0],\n",
        "        [0,0,0,4,1,9,0,0,5],\n",
        "        [0,0,0,0,8,0,0,7,9],\n",
        "    ]\n",
        "\n",
        "    # apply givens\n",
        "    for r in range(9):\n",
        "        for c in range(9):\n",
        "            if puzzle[r][c]:\n",
        "                model.Add(cells[r][c] == puzzle[r][c])\n",
        "\n",
        "    # standard row/col/subgrid constraints\n",
        "    for i in range(9):\n",
        "        model.AddAllDifferent(cells[i])                     # row\n",
        "        model.AddAllDifferent([cells[r][i] for r in range(9)])  # col\n",
        "\n",
        "    for br in range(3):\n",
        "        for bc in range(3):\n",
        "            block = [cells[r][c]\n",
        "                     for r in range(br*3, br*3+3)\n",
        "                     for c in range(bc*3, bc*3+3)]\n",
        "            model.AddAllDifferent(block)\n",
        "\n",
        "    # diagonal sums divisible by 3\n",
        "    d1 = [cells[i][i] for i in range(9)]\n",
        "    d2 = [cells[i][8-i] for i in range(9)]\n",
        "    s1 = model.NewIntVar(0,81,\"s1\")\n",
        "    s2 = model.NewIntVar(0,81,\"s2\")\n",
        "    model.Add(s1 == sum(d1))\n",
        "    model.Add(s2 == sum(d2))\n",
        "    model.AddModuloEquality(0, s1, 3)\n",
        "    model.AddModuloEquality(0, s2, 3)\n",
        "\n",
        "    # no two adjacent primes\n",
        "    primes = {2,3,5,7}\n",
        "    for r in range(9):\n",
        "        for c in range(9):\n",
        "            for dr,dc in [(1,0),(0,1)]:\n",
        "                rr, cc = r+dr, c+dc\n",
        "                if rr < 9 and cc < 9:\n",
        "                    # if both are prime → disallow\n",
        "                    b1 = model.NewBoolVar(f\"p{r}{c}\")\n",
        "                    b2 = model.NewBoolVar(f\"p{rr}{cc}\")\n",
        "                    model.AddAllowedAssignments([cells[r][c], b1],\n",
        "                                                [(p,1) for p in primes] + [(x,0) for x in range(1,10) if x not in primes])\n",
        "                    model.AddAllowedAssignments([cells[rr][cc], b2],\n",
        "                                                [(p,1) for p in primes] + [(x,0) for x in range(1,10) if x not in primes])\n",
        "                    model.AddBoolOr([b1.Not(), b2.Not()])\n",
        "\n",
        "    solver = cp_model.CpSolver()\n",
        "    solver.Solve(model)\n",
        "\n",
        "    # print solution\n",
        "    for r in range(9):\n",
        "        print([solver.Value(cells[r][c]) for c in range(9)])\n",
        "\n",
        "if __name__ == \"__main__\":\n",
        "    main()\n"
      ]
    }
  ]
}