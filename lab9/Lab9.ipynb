{
  "cells": [
    {
      "cell_type": "markdown",
      "metadata": {
        "id": "r7WvG3-iRFBm"
      },
      "source": [
        "Question 1"
      ]
    },
    {
      "cell_type": "code",
      "execution_count": null,
      "metadata": {
        "colab": {
          "base_uri": "https://localhost:8080/"
        },
        "id": "bLhY-QsxREcO",
        "outputId": "96284842-73f5-47e8-cfd7-17bc08be1fef"
      },
      "outputs": [
        {
          "name": "stdout",
          "output_type": "stream",
          "text": [
            "Y_test 0    30\n",
            "1    22\n",
            "Name: mpg, dtype: int64\n",
            "predicted [35.49062021 24.09216575]\n",
            "r^2: -0.07887711826112409\n",
            "Mean Squared Error: 17.262033892177985\n"
          ]
        }
      ],
      "source": [
        "\n",
        "import pandas as pd\n",
        "import numpy as np\n",
        "from sklearn.model_selection import train_test_split\n",
        "from sklearn.linear_model import LinearRegression\n",
        "from sklearn.metrics import mean_squared_error\n",
        "from sklearn.metrics import r2_score\n",
        "\n",
        "#Making random data beacuse dataset didnt work from link in manual\n",
        "data = pd.DataFrame({\n",
        "    'cylinders': [4, 6, 8, 4, 4, 8, 6, 4, 8, 4],\n",
        "    'displacement': [140, 250, 350, 120, 113, 360, 198, 97, 390, 98],\n",
        "    'horsepower': [90, 105, np.nan, 88, 95, 175, np.nan, 75, 190, np.nan],\n",
        "    'weight': [2264, 3282, 3693, 2300, 2130, 3850, 3100, 1850, 4000, 1800],\n",
        "    'acceleration': [15.5, 15.0, 14.0, 16.0, 17.0, 13.0, 15.5, 18.0, 12.5, 18.5],\n",
        "    'model_year': [70, 71, 70, 72, 73, 71, 72, 74, 70, 75],\n",
        "    'origin': [1, 1, 1, 2, 3, 1, 1, 2, 1, 3],\n",
        "    'car_name': ['ford', 'chevy', 'dodge', 'toyota', 'honda', 'ford', 'chevy', 'honda', 'dodge', 'toyota'],\n",
        "    'mpg': [30, 22, 15, 35, 36, 14, 20, 40, 12, 38]\n",
        "})\n",
        "\n",
        "data_cleaned = data.dropna()\n",
        "\n",
        "data_cleaned = pd.get_dummies(data_cleaned, columns=['car_name'], drop_first=True)\n",
        "\n",
        "X = data_cleaned.drop('mpg', axis=1)\n",
        "y = data_cleaned['mpg']\n",
        "\n",
        "x_train,x_test,y_train,y_test=train_test_split(X,y,test_size=0.2,random_state=42)\n",
        "\n",
        "LR=LinearRegression()\n",
        "model=LR.fit(x_train,y_train)\n",
        "\n",
        "\n",
        "predicted_mpg=model.predict(x_test)\n",
        "\n",
        "print(\"Y_test\",y_test)\n",
        "print(\"predicted\",predicted_mpg)\n",
        "\n",
        "\n",
        "\n",
        "r2score=r2_score(y_test,predicted_mpg)\n",
        "print(\"r^2:\",r2score)\n",
        "mse=mean_squared_error(y_test,predicted_mpg)\n",
        "print(\"Mean Squared Error:\",mse)\n"
      ]
    },
    {
      "cell_type": "markdown",
      "metadata": {
        "id": "rDBZIeHCRGxd"
      },
      "source": [
        "Question 2"
      ]
    },
    {
      "cell_type": "code",
      "execution_count": null,
      "metadata": {
        "colab": {
          "base_uri": "https://localhost:8080/"
        },
        "id": "Rxu2nRwgRYEe",
        "outputId": "d808c2d9-007a-4278-db61-c98bb05d9650"
      },
      "outputs": [
        {
          "name": "stdout",
          "output_type": "stream",
          "text": [
            "Accuracy: 0.9228699551569507\n",
            "\n",
            "Confusion Matrix:\n",
            " [[966   0]\n",
            " [ 86  63]]\n",
            "\n",
            "Classification Report:\n",
            "               precision    recall  f1-score   support\n",
            "\n",
            "           0       0.92      1.00      0.96       966\n",
            "           1       1.00      0.42      0.59       149\n",
            "\n",
            "    accuracy                           0.92      1115\n",
            "   macro avg       0.96      0.71      0.78      1115\n",
            "weighted avg       0.93      0.92      0.91      1115\n",
            "\n"
          ]
        }
      ],
      "source": [
        "import pandas as pd\n",
        "from sklearn.svm import SVC\n",
        "from sklearn.model_selection import train_test_split\n",
        "from sklearn.metrics import accuracy_score, confusion_matrix, classification_report\n",
        "from sklearn.feature_extraction.text import TfidfVectorizer\n",
        "from sklearn.preprocessing import StandardScaler\n",
        "\n",
        "df = pd.read_csv('./SMSSpamCollection', sep='\\t', header=None, names=['label', 'message'])\n",
        "#print(df.head())\n",
        "\n",
        "y = (df['label'] == 'spam').astype(int)\n",
        "\n",
        "vectorize = TfidfVectorizer()\n",
        "X = vectorize.fit_transform(df['message'])\n",
        "\n",
        "SS = StandardScaler(with_mean=False)\n",
        "x_scaled = SS.fit_transform(X.toarray())\n",
        "\n",
        "x_train, x_test, y_train, y_test = train_test_split(x_scaled, y, test_size=0.2, random_state=42)\n",
        "\n",
        "svc = SVC(kernel='rbf', C=1, gamma='scale')\n",
        "svc.fit(x_train, y_train)\n",
        "\n",
        "predicted = svc.predict(x_test)\n",
        "\n",
        "accuracy = accuracy_score(y_test, predicted)\n",
        "confusion = confusion_matrix(y_test, predicted)\n",
        "report = classification_report(y_test, predicted)\n",
        "\n",
        "print(\"Accuracy:\", accuracy)\n",
        "print(\"\\nConfusion Matrix:\\n\", confusion)\n",
        "print(\"\\nClassification Report:\\n\", report)\n"
      ]
    },
    {
      "cell_type": "markdown",
      "metadata": {
        "id": "aXNJvVjfRHnm"
      },
      "source": [
        "Question 3"
      ]
    },
    {
      "cell_type": "code",
      "execution_count": null,
      "metadata": {
        "colab": {
          "base_uri": "https://localhost:8080/"
        },
        "id": "Yp0pSc5xRH3s",
        "outputId": "1f736669-6828-4366-acd8-1d06655044b4"
      },
      "outputs": [
        {
          "name": "stdout",
          "output_type": "stream",
          "text": [
            "accuracy_train 1.0\n",
            "accuracy_test 0.675\n"
          ]
        }
      ],
      "source": [
        "import pandas as pd\n",
        "from sklearn.preprocessing import LabelEncoder\n",
        "from sklearn.tree import DecisionTreeClassifier\n",
        "from sklearn.model_selection import train_test_split\n",
        "from sklearn.metrics import accuracy_score\n",
        "\n",
        "#print('hello')\n",
        "err_data=pd.read_csv('./Mall_Customers.csv.xls')\n",
        "err_data.head()\n",
        "data=err_data.dropna()\n",
        "data.head()\n",
        "\n",
        "y=(data['Spending Score (1-100)']>50).astype(int)\n",
        "LE=LabelEncoder()\n",
        "data['Gender']=LE.fit_transform(data['Gender'])\n",
        "X=data.drop('Spending Score (1-100)',axis=1)\n",
        "DT=DecisionTreeClassifier()\n",
        "x_train,x_test,y_train,y_test=train_test_split(X,y,test_size=0.2,random_state=42)\n",
        "\n",
        "model=DT.fit(x_train,y_train)\n",
        "predict_train=model.predict(x_train)\n",
        "accuracy_train=accuracy_score(y_train,predict_train)\n",
        "predict_test=model.predict(x_test)\n",
        "accuracy_test=accuracy_score(y_test,predict_test)\n",
        "print(\"accuracy_train\",accuracy_train)\n",
        "print(\"accuracy_test\",accuracy_test)\n",
        "\n"
      ]
    },
    {
      "cell_type": "markdown",
      "metadata": {
        "id": "VJp7n20qRIJr"
      },
      "source": [
        "Question 4"
      ]
    },
    {
      "cell_type": "code",
      "execution_count": null,
      "metadata": {
        "colab": {
          "base_uri": "https://localhost:8080/",
          "height": 1000
        },
        "id": "2FLYBngDRIYN",
        "outputId": "59824545-363e-49be-be0e-3d02f20fde0e"
      },
      "outputs": [
        {
          "name": "stdout",
          "output_type": "stream",
          "text": [
            "MSE 425.5402976300801\n",
            "r2 0.04750992111839425\n"
          ]
        },
        {
          "data": {
            "image/png": "[encoded data removed]",
            "text/plain": [
              "<Figure size 800x1600 with 1 Axes>"
            ]
          },
          "metadata": {},
          "output_type": "display_data"
        }
      ],
      "source": [
        "import pandas as pd\n",
        "import numpy as np\n",
        "import matplotlib.pyplot as plt\n",
        "from sklearn.linear_model import LinearRegression\n",
        "from sklearn.model_selection import train_test_split\n",
        "from sklearn.metrics import mean_squared_error\n",
        "from sklearn.metrics import r2_score\n",
        "df = pd.DataFrame({\n",
        "    'Hours_Studied': np.random.uniform(0, 10, 50),\n",
        "    'Attendance_Percentage': np.random.uniform(50, 100, 50),\n",
        "    'Assignments_Completed': np.random.randint(5, 10, 50),\n",
        "    'Final_Score': np.random.uniform(40, 100, 50)\n",
        "})\n",
        "\n",
        "X=df.drop('Final_Score',axis=1)\n",
        "y=df['Final_Score']\n",
        "LR=LinearRegression()\n",
        "x_train,x_test,y_train,y_test=train_test_split(X,y,test_size=0.2,random_state=42)\n",
        "model=LR.fit(x_train,y_train)\n",
        "pred_y=model.predict(x_test)\n",
        "mse=mean_squared_error(y_test,pred_y)\n",
        "r2=r2_score(y_test,pred_y)\n",
        "\n",
        "print(\"MSE\",mse)\n",
        "print(\"r2\",r2)\n",
        "\n",
        "\n",
        "plt.figure(figsize=(8,16))\n",
        "plt.scatter(y_test,pred_y,color=\"red\",alpha=0.5)\n",
        "plt.plot([y_test.min(), y_test.max()], [y_test.min(), y_test.max()], 'r--')\n",
        "plt.show()\n"
      ]
    },
    {
      "cell_type": "markdown",
      "metadata": {
        "id": "QRtOSlCCRInp"
      },
      "source": [
        "Question 5"
      ]
    },
    {
      "cell_type": "code",
      "execution_count": null,
      "metadata": {
        "colab": {
          "base_uri": "https://localhost:8080/"
        },
        "id": "_vAwbp-GRIxP",
        "outputId": "8717b994-ed16-40c5-944e-383934fc7dec"
      },
      "outputs": [
        {
          "name": "stdout",
          "output_type": "stream",
          "text": [
            "\n",
            "SVM Model Metrics:\n",
            "Accuracy: 0.956140350877193\n",
            "Precision: 0.9714285714285714\n",
            "Recall: 0.9577464788732394\n",
            "F1 Score: 0.9645390070921985\n",
            "\n",
            "Decision Tree Model Metrics:\n",
            "Accuracy: 0.9473684210526315\n",
            "Precision: 0.9577464788732394\n",
            "Recall: 0.9577464788732394\n",
            "F1 Score: 0.9577464788732394\n"
          ]
        }
      ],
      "source": [
        "from sklearn.datasets import load_breast_cancer\n",
        "from sklearn.model_selection import train_test_split\n",
        "from sklearn.preprocessing import StandardScaler\n",
        "from sklearn.svm import SVC\n",
        "from sklearn.tree import DecisionTreeClassifier\n",
        "from sklearn.metrics import accuracy_score, precision_score, recall_score, f1_score\n",
        "import pandas as pd\n",
        "\n",
        "data = load_breast_cancer()\n",
        "X = data.data\n",
        "y = data.target\n",
        "scaler = StandardScaler()\n",
        "X_scaled = scaler.fit_transform(X)\n",
        "\n",
        "X_train, X_test, y_train, y_test = train_test_split(X_scaled, y, test_size=0.2, random_state=42)\n",
        "\n",
        "svm_model = SVC(kernel=\"linear\", C=1, gamma=\"scale\")\n",
        "svm_model.fit(X_train, y_train)\n",
        "y_pred_svm = svm_model.predict(X_test)\n",
        "\n",
        "dt_model = DecisionTreeClassifier(random_state=42)\n",
        "dt_model.fit(X_train, y_train)\n",
        "y_pred_dt = dt_model.predict(X_test)\n",
        "\n",
        "print(\"\\nSVM Model Metrics:\")\n",
        "print(\"Accuracy:\", accuracy_score(y_test, y_pred_svm))\n",
        "print(\"Precision:\", precision_score(y_test, y_pred_svm))\n",
        "print(\"Recall:\", recall_score(y_test, y_pred_svm))\n",
        "print(\"F1 Score:\", f1_score(y_test, y_pred_svm))\n",
        "\n",
        "print(\"\\nDecision Tree Model Metrics:\")\n",
        "print(\"Accuracy:\", accuracy_score(y_test, y_pred_dt))\n",
        "print(\"Precision:\", precision_score(y_test, y_pred_dt))\n",
        "print(\"Recall:\", recall_score(y_test, y_pred_dt))\n",
        "print(\"F1 Score:\", f1_score(y_test, y_pred_dt))\n"
      ]
    }
  ],
  "metadata": {
    "colab": {
      "provenance": []
    },
    "kernelspec": {
      "display_name": "Python 3",
      "name": "python3"
    },
    "language_info": {
      "name": "python"
    }
  },
  "nbformat": 4,
  "nbformat_minor": 0
}
